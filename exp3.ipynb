{
 "cells": [
  {
   "cell_type": "code",
   "execution_count": 2,
   "id": "02967cf9-7bb3-4aca-a02f-a64346a8e600",
   "metadata": {},
   "outputs": [
    {
     "name": "stdout",
     "output_type": "stream",
     "text": [
      "        SourceIP  DestinationIP\n",
      "0  192.168.1.239  192.168.1.234\n",
      "1  192.168.1.176   192.168.1.82\n",
      "2  192.168.1.120  192.168.1.113\n",
      "3  192.168.1.212  192.168.1.140\n",
      "4   192.168.1.17  192.168.1.223\n"
     ]
    }
   ],
   "source": [
    "\n",
    "import pandas as pd\n",
    "\n",
    "# Load dataset (update path accordingly)\n",
    "df = pd.read_csv(\"network_traffic_data.csv\") \n",
    "\n",
    "# Extract Source and Destination IP\n",
    "df_filtered = df[['SourceIP', 'DestinationIP']]\n",
    "\n",
    "print(df_filtered.head())"
   ]
  },
  {
   "cell_type": "code",
   "execution_count": 3,
   "id": "766017f0-bcea-40f6-a02a-af8328a57b4d",
   "metadata": {},
   "outputs": [],
   "source": [
    "from collections import deque\n",
    "\n",
    "window_size = 100  # Example: Process 100 IPs at a time\n",
    "ip_stream = deque(maxlen=window_size)\n",
    "\n",
    "for ip in df_filtered[\"SourceIP\"]:\n",
    "    ip_stream.append(ip)\n",
    "    # Apply FM Algorithm after window fills"
   ]
  },
  {
   "cell_type": "code",
   "execution_count": 4,
   "id": "2a53fb44-366c-4f6c-bd0b-95cd683c4c05",
   "metadata": {},
   "outputs": [
    {
     "name": "stdout",
     "output_type": "stream",
     "text": [
      "Estimated Distinct IPs: 53.81737057623773\n"
     ]
    }
   ],
   "source": [
    "import hashlib\n",
    "import numpy as np\n",
    "\n",
    "class FlajoletMartin:\n",
    "    def __init__(self, num_hashes=4):\n",
    "        self.num_hashes = num_hashes\n",
    "        self.max_zeros = np.zeros(num_hashes, dtype=int)\n",
    "\n",
    "    def hash_function(self, ip, seed):\n",
    "        hash_val = int(hashlib.md5((ip + str(seed)).encode()).hexdigest(), 16)\n",
    "        binary = bin(hash_val)[2:]  # Convert to binary\n",
    "        return len(binary) - len(binary.rstrip('0'))  # Count trailing zeros\n",
    "\n",
    "    def process_ip(self, ip):\n",
    "        for i in range(self.num_hashes):\n",
    "            self.max_zeros[i] = max(self.max_zeros[i], self.hash_function(ip, i))\n",
    "\n",
    "    def estimate_count(self):\n",
    "        return 2 ** (np.mean(self.max_zeros))  # FM estimate\n",
    "\n",
    "# Initialize FM algorithm\n",
    "fm = FlajoletMartin()\n",
    "for ip in ip_stream:\n",
    "    fm.process_ip(ip)\n",
    "\n",
    "distinct_count_estimate = fm.estimate_count()\n",
    "print(f\"Estimated Distinct IPs: {distinct_count_estimate}\")"
   ]
  },
  {
   "cell_type": "code",
   "execution_count": 5,
   "id": "88fd4d3b-b110-4b01-a848-64aa65493f54",
   "metadata": {},
   "outputs": [],
   "source": [
    "THRESHOLD = 500  # Adjust based on dataset analysis\n",
    "\n",
    "if distinct_count_estimate > THRESHOLD:\n",
    "    print(\"Potential Attack Detected!\")"
   ]
  },
  {
   "cell_type": "code",
   "execution_count": 6,
   "id": "c0f3ff77-4964-443a-a742-7b4de3592298",
   "metadata": {},
   "outputs": [
    {
     "name": "stdout",
     "output_type": "stream",
     "text": [
      "Accuracy of Distinct Count: 68.12%\n"
     ]
    }
   ],
   "source": [
    "true_distinct_count = len(set(ip_stream))\n",
    "accuracy = (1 - abs(true_distinct_count - distinct_count_estimate) / true_distinct_count) * 100\n",
    "\n",
    "print(f\"Accuracy of Distinct Count: {accuracy:.2f}%\")"
   ]
  },
  {
   "cell_type": "code",
   "execution_count": 7,
   "id": "713b336e-5caa-459e-8778-937aa6c51cb4",
   "metadata": {},
   "outputs": [],
   "source": [
    "# Experiment with SHA-256 instead of MD5\n",
    "def hash_function_sha256(ip, seed):\n",
    "    hash_val = int(hashlib.sha256((ip + str(seed)).encode()).hexdigest(), 16)\n",
    "    binary = bin(hash_val)[2:]\n",
    "    return len(binary) - len(binary.rstrip('0'))"
   ]
  },
  {
   "cell_type": "code",
   "execution_count": null,
   "id": "5d96c09a-660e-47ac-b7a1-05a0392b6b07",
   "metadata": {},
   "outputs": [],
   "source": []
  }
 ],
 "metadata": {
  "kernelspec": {
   "display_name": "Python 3 (ipykernel)",
   "language": "python",
   "name": "python3"
  },
  "language_info": {
   "codemirror_mode": {
    "name": "ipython",
    "version": 3
   },
   "file_extension": ".py",
   "mimetype": "text/x-python",
   "name": "python",
   "nbconvert_exporter": "python",
   "pygments_lexer": "ipython3",
   "version": "3.12.7"
  }
 },
 "nbformat": 4,
 "nbformat_minor": 5
}
