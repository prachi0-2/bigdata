{
 "cells": [
  {
   "cell_type": "code",
   "execution_count": 1,
   "id": "9c03072c-c84a-450d-9f9a-b44f6f9d7c79",
   "metadata": {},
   "outputs": [],
   "source": [
    "import pandas as pd\n",
    "import numpy as np\n",
    "from sklearn.model_selection import train_test_split\n",
    "from sklearn.metrics import accuracy_score, confusion_matrix"
   ]
  },
  {
   "cell_type": "code",
   "execution_count": 2,
   "id": "3348943c-85da-4dca-8efd-1dd68e4b7cc7",
   "metadata": {},
   "outputs": [],
   "source": [
    "spambase_path = \"spambase.csv\"  # Correct path\n",
    "spambase_cols = [f\"feature_{i}\" for i in range(57)] + [\"label\"]\n",
    "\n",
    "spambase_df = pd.read_csv(spambase_path, header=None)\n",
    "spambase_df.columns = spambase_cols  # Assign column names\n"
   ]
  },
  {
   "cell_type": "code",
   "execution_count": 3,
   "id": "bac616db-87ce-46ed-bbf2-5668f76b5544",
   "metadata": {},
   "outputs": [
    {
     "name": "stdout",
     "output_type": "stream",
     "text": [
      "[==================================================] 100.0% 128.1/128.1MB downloaded\n"
     ]
    }
   ],
   "source": [
    "import gensim.downloader as api\n",
    "\n",
    "# Load pre-trained GloVe model\n",
    "glove = api.load(\"glove-wiki-gigaword-100\")  # This loads a 100-dimensional GloVe model"
   ]
  },
  {
   "cell_type": "code",
   "execution_count": 4,
   "id": "8e84ec90-e0f3-402d-a8b5-835ba4ecd96e",
   "metadata": {},
   "outputs": [
    {
     "name": "stdout",
     "output_type": "stream",
     "text": [
      "Collecting pybloom-live\n",
      "  Downloading pybloom_live-4.0.0.tar.gz (10 kB)\n",
      "  Preparing metadata (setup.py): started\n",
      "  Preparing metadata (setup.py): finished with status 'done'\n",
      "Collecting bitarray>=0.3.4 (from pybloom-live)\n",
      "  Downloading bitarray-3.0.0-cp312-cp312-win_amd64.whl.metadata (33 kB)\n",
      "Collecting xxhash>=3.0.0 (from pybloom-live)\n",
      "  Downloading xxhash-3.5.0-cp312-cp312-win_amd64.whl.metadata (13 kB)\n",
      "Downloading bitarray-3.0.0-cp312-cp312-win_amd64.whl (121 kB)\n",
      "Downloading xxhash-3.5.0-cp312-cp312-win_amd64.whl (30 kB)\n",
      "Building wheels for collected packages: pybloom-live\n",
      "  Building wheel for pybloom-live (setup.py): started\n",
      "  Building wheel for pybloom-live (setup.py): finished with status 'done'\n",
      "  Created wheel for pybloom-live: filename=pybloom_live-4.0.0-py3-none-any.whl size=9304 sha256=9abdf768b84a92b6275dbb9112d007f6f2a334675156ea5b2451c805424cf673\n",
      "  Stored in directory: c:\\users\\lenovo\\appdata\\local\\pip\\cache\\wheels\\1d\\5e\\b8\\19c04c108b0acd2ca53b85fcc09eeed323ecdfea0e36bd134e\n",
      "Successfully built pybloom-live\n",
      "Installing collected packages: bitarray, xxhash, pybloom-live\n",
      "Successfully installed bitarray-3.0.0 pybloom-live-4.0.0 xxhash-3.5.0\n",
      "Note: you may need to restart the kernel to use updated packages.\n"
     ]
    },
    {
     "name": "stderr",
     "output_type": "stream",
     "text": [
      "\n",
      "[notice] A new release of pip is available: 24.2 -> 25.0\n",
      "[notice] To update, run: python.exe -m pip install --upgrade pip\n"
     ]
    }
   ],
   "source": [
    "pip install pybloom-live"
   ]
  },
  {
   "cell_type": "code",
   "execution_count": 5,
   "id": "daf6230c-5053-467f-822f-199d7c3b257c",
   "metadata": {},
   "outputs": [],
   "source": [
    "from pybloom_live import BloomFilter\n",
    "\n",
    "# Define the Bloom Filter (size and error rate)\n",
    "bloom = BloomFilter(capacity=1000, error_rate=0.1)\n",
    "\n",
    "# Example: Adding spam words/features to the Bloom Filter\n",
    "for feature in spambase_df[\"feature_0\"]:  # You can iterate over relevant features\n",
    "    bloom.add(str(feature))  # Add features to the Bloom filter\n"
   ]
  },
  {
   "cell_type": "code",
   "execution_count": 6,
   "id": "429c7073-6954-4a86-8eed-f85c455356f5",
   "metadata": {},
   "outputs": [
    {
     "name": "stdout",
     "output_type": "stream",
     "text": [
      "Index(['feature_0', 'feature_1', 'feature_2', 'feature_3', 'feature_4',\n",
      "       'feature_5', 'feature_6', 'feature_7', 'feature_8', 'feature_9',\n",
      "       'feature_10', 'feature_11', 'feature_12', 'feature_13', 'feature_14',\n",
      "       'feature_15', 'feature_16', 'feature_17', 'feature_18', 'feature_19',\n",
      "       'feature_20', 'feature_21', 'feature_22', 'feature_23', 'feature_24',\n",
      "       'feature_25', 'feature_26', 'feature_27', 'feature_28', 'feature_29',\n",
      "       'feature_30', 'feature_31', 'feature_32', 'feature_33', 'feature_34',\n",
      "       'feature_35', 'feature_36', 'feature_37', 'feature_38', 'feature_39',\n",
      "       'feature_40', 'feature_41', 'feature_42', 'feature_43', 'feature_44',\n",
      "       'feature_45', 'feature_46', 'feature_47', 'feature_48', 'feature_49',\n",
      "       'feature_50', 'feature_51', 'feature_52', 'feature_53', 'feature_54',\n",
      "       'feature_55', 'feature_56', 'label'],\n",
      "      dtype='object')\n"
     ]
    }
   ],
   "source": [
    "print(spambase_df.columns)\n"
   ]
  },
  {
   "cell_type": "code",
   "execution_count": 7,
   "id": "92701f66-277e-495f-96fe-d57c5030ac2d",
   "metadata": {},
   "outputs": [
    {
     "name": "stdout",
     "output_type": "stream",
     "text": [
      "True Positive Rate: 0.00\n",
      "False Positive Rate: 1.00\n"
     ]
    }
   ],
   "source": [
    "# Initialize counters for true positives and false positives\n",
    "true_positive = 0\n",
    "false_positive = 0\n",
    "false_negative = 0\n",
    "true_negative = 0\n",
    "\n",
    "# Iterate over the dataset and apply the Bloom filter\n",
    "for _, row in spambase_df.iterrows():\n",
    "    feature = str(row[\"feature_0\"])  # Assuming feature_0 as an example\n",
    "    \n",
    "    # If the Bloom filter indicates the feature is spam\n",
    "    if bloom.__contains__(feature):\n",
    "        # Check if the email is actually spam (label == 1)\n",
    "        if row[\"label\"] == 1:\n",
    "            true_positive += 1  # Correctly identified spam\n",
    "        else:\n",
    "            false_positive += 1  # Legitimate email incorrectly identified as spam\n",
    "    else:\n",
    "        # If the Bloom filter indicates the feature is not spam\n",
    "        if row[\"label\"] == 0:\n",
    "            true_negative += 1  # Correctly identified legitimate email\n",
    "        else:\n",
    "            false_negative += 1  # Spam email missed by the Bloom filter\n",
    "\n",
    "# Calculate True Positive Rate and False Positive Rate\n",
    "TPR = true_positive / (true_positive + false_negative) if (true_positive + false_negative) != 0 else 0\n",
    "FPR = false_positive / (false_positive + true_negative) if (false_positive + true_negative) != 0 else 0\n",
    "\n",
    "print(f\"True Positive Rate: {TPR:.2f}\")\n",
    "print(f\"False Positive Rate: {FPR:.2f}\")\n"
   ]
  },
  {
   "cell_type": "code",
   "execution_count": null,
   "id": "87980934-f72c-41bf-a69d-ab16ac90b1b4",
   "metadata": {},
   "outputs": [],
   "source": []
  }
 ],
 "metadata": {
  "kernelspec": {
   "display_name": "Python 3 (ipykernel)",
   "language": "python",
   "name": "python3"
  },
  "language_info": {
   "codemirror_mode": {
    "name": "ipython",
    "version": 3
   },
   "file_extension": ".py",
   "mimetype": "text/x-python",
   "name": "python",
   "nbconvert_exporter": "python",
   "pygments_lexer": "ipython3",
   "version": "3.12.7"
  }
 },
 "nbformat": 4,
 "nbformat_minor": 5
}
